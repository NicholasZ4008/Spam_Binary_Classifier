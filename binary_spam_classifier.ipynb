{
 "cells": [
  {
   "cell_type": "markdown",
   "metadata": {},
   "source": [
    "# Binary Spam Classifier Experiment"
   ]
  },
  {
   "cell_type": "code",
   "execution_count": 10,
   "metadata": {},
   "outputs": [],
   "source": [
    "import pandas as pd\n",
    "from sklearn.model_selection import KFold\n",
    "from sklearn.metrics import accuracy_score\n",
    "import numpy as np\n",
    "import requests\n",
    "from sklearn.linear_model import LogisticRegression\n",
    "from sklearn.naive_bayes import GaussianNB\n",
    "from sklearn.neighbors import KNeighborsClassifier\n",
    "from sklearn.neural_network import MLPClassifier\n",
    "from sklearn.ensemble import RandomForestClassifier\n",
    "from sklearn.tree import DecisionTreeClassifier\n",
    "\n",
    "from sklearn.feature_extraction.text import CountVectorizer\n",
    "from sklearn.feature_extraction.text import TfidfVectorizer\n",
    "from sklearn.feature_extraction.text import HashingVectorizer\n",
    "\n",
    "from sklearn.metrics import accuracy_score, precision_score, recall_score, f1_score\n",
    "from scipy.sparse import issparse\n",
    "\n",
    "import os\n",
    "import mlflow\n",
    "import mlflow.sklearn\n",
    "import time\n",
    "import string\n",
    "RANDOM_STATE = 123"
   ]
  },
  {
   "cell_type": "markdown",
   "metadata": {},
   "source": [
    "### Import and Clean Up"
   ]
  },
  {
   "cell_type": "code",
   "execution_count": 11,
   "metadata": {},
   "outputs": [
    {
     "name": "stdout",
     "output_type": "stream",
     "text": [
      "  label                                            message\n",
      "0   ham  Go until jurong point, crazy.. Available only ...\n",
      "1   ham                      Ok lar... Joking wif u oni...\n",
      "2  spam  Free entry in 2 a wkly comp to win FA Cup fina...\n",
      "3   ham  U dun say so early hor... U c already then say...\n",
      "4   ham  Nah I don't think he goes to usf, he lives aro...\n"
     ]
    }
   ],
   "source": [
    "#Import\n",
    "DATASET_FILENAME = \"spam.csv\"\n",
    "DATA_PATH = os.path.join(\"data\", DATASET_FILENAME)\n",
    "\n",
    "#encoding latin1 ensures removal of special characters. delimiter and usecols removes irrelevant columns and commas\n",
    "df = pd.read_csv(DATA_PATH, encoding='latin1', delimiter=',', usecols=[0,1])\n",
    "df.columns = ['label', 'message']  # Rename columns for clarity\n",
    "print(df.head())"
   ]
  },
  {
   "cell_type": "markdown",
   "metadata": {},
   "source": [
    "### Preprocess Data"
   ]
  },
  {
   "cell_type": "code",
   "execution_count": 12,
   "metadata": {},
   "outputs": [],
   "source": [
    "\n",
    "X = df['message']\n",
    "y = df['label'].apply(lambda x: 'spam' if 'spam' in x else 'not-spam')"
   ]
  },
  {
   "cell_type": "markdown",
   "metadata": {},
   "source": [
    "### MLFlow Config"
   ]
  },
  {
   "cell_type": "code",
   "execution_count": 13,
   "metadata": {},
   "outputs": [
    {
     "name": "stdout",
     "output_type": "stream",
     "text": [
      "Experiment ID: 1\n",
      "Experiment Name: binary_classifier_spam\n"
     ]
    }
   ],
   "source": [
    "#Config MLFLOW:\n",
    "EXPERIMENT_NAME = \"binary_classifier_spam\"\n",
    "mlflow.set_tracking_uri(\"http://localhost:5000\")\n",
    "mlflow.set_experiment(experiment_name=EXPERIMENT_NAME)\n",
    "experiment = mlflow.get_experiment_by_name(EXPERIMENT_NAME)\n",
    "\n",
    "EXPERIMENT_ID = experiment.experiment_id\n",
    "RUN_UID = str(int(time.time()))\n",
    "\n",
    "print(\"Experiment ID:\",EXPERIMENT_ID)\n",
    "print(\"Experiment Name:\", EXPERIMENT_NAME)"
   ]
  },
  {
   "cell_type": "markdown",
   "metadata": {},
   "source": [
    "### Define Models"
   ]
  },
  {
   "cell_type": "code",
   "execution_count": 14,
   "metadata": {},
   "outputs": [],
   "source": [
    "logreg_hyperparameters = {\n",
    "    'penalty': 'l2',\n",
    "    'solver': 'lbfgs',\n",
    "    'random_state': RANDOM_STATE\n",
    "}\n",
    "nn_hyperparameters = {\n",
    "    'learning_rate': 'adaptive',\n",
    "    'alpha': 0.0001,\n",
    "    'max_iter': 200,\n",
    "    'activation': 'relu',\n",
    "    'solver': 'adam',\n",
    "    'random_state': RANDOM_STATE\n",
    "}\n",
    "rf_hyperparameters = {\n",
    "    'max_depth': None,\n",
    "    'n_estimators': 100, \n",
    "    'max_features': 'sqrt',\n",
    "    'random_state': RANDOM_STATE\n",
    "}\n",
    "\n",
    "logreg = LogisticRegression(**logreg_hyperparameters)\n",
    "nb = GaussianNB()\n",
    "knn = KNeighborsClassifier(n_neighbors=5)\n",
    "nn = MLPClassifier(**nn_hyperparameters)\n",
    "rf = RandomForestClassifier(**rf_hyperparameters)\n",
    "\n",
    "models = {\n",
    "    \"logreg\": logreg, \n",
    "    # \"nb\": nb, \n",
    "    \"knn\": knn, \n",
    "    \"nn\": nn, \n",
    "    \"rf\": rf\n",
    "}"
   ]
  },
  {
   "cell_type": "markdown",
   "metadata": {},
   "source": [
    "### Define Vectorizers"
   ]
  },
  {
   "cell_type": "code",
   "execution_count": null,
   "metadata": {},
   "outputs": [],
   "source": [
    "STOP_WORDS = set(stopwords.words('english') + list(string.punctuation))\n",
    "STOP_WORDS = list(STOP_WORDS)\n",
    "\n",
    "vectorizer_params = {\n",
    "    'lowercase': True,\n",
    "    'min_df': 5,\n",
    "    'max_features': 25000\n",
    "}\n",
    "count_vectorizer = CountVectorizer(stop_words=STOP_WORDS, **vectorizer_params) # Bag-of-Words vectorizer\n",
    "tfidf_vectorizer = TfidfVectorizer(stop_words=STOP_WORDS, **vectorizer_params)\n",
    "\n",
    "vectorizers = {\"count_vectorizer\": count_vectorizer, \"tfidf_vectorizer\": tfidf_vectorizer}"
   ]
  }
 ],
 "metadata": {
  "kernelspec": {
   "display_name": "venv",
   "language": "python",
   "name": "python3"
  },
  "language_info": {
   "codemirror_mode": {
    "name": "ipython",
    "version": 3
   },
   "file_extension": ".py",
   "mimetype": "text/x-python",
   "name": "python",
   "nbconvert_exporter": "python",
   "pygments_lexer": "ipython3",
   "version": "3.10.9"
  }
 },
 "nbformat": 4,
 "nbformat_minor": 2
}
